{
 "cells": [
  {
   "cell_type": "markdown",
   "id": "2f84f609-6157-46fe-b7c5-8cd2218b209c",
   "metadata": {},
   "source": [
    "<h1>Data Science Tools and Ecosystem</h1>"
   ]
  },
  {
   "cell_type": "markdown",
   "id": "e16d2bd3-6ae9-48c1-ab2b-bf74a1c9594c",
   "metadata": {},
   "source": [
    "In this notebook, Data Science Tools and Ecosystem are summarized."
   ]
  },
  {
   "cell_type": "markdown",
   "id": "a41dba9d-9f22-4fd8-ba9e-860b5b2cc546",
   "metadata": {},
   "source": [
    "<h2>Author:</h2>\n",
    "Artur Grochau\n",
    "\n",
    "**Objectives:**\n",
    "+ Lists popular languages that Data Scientists use\n",
    "+ List commonly used libraries used by Data Scientists\n",
    "+ list Data Science Tools\n",
    "+ Give examples of arithmetic expressions being evaluated using Python"
   ]
  },
  {
   "cell_type": "markdown",
   "id": "dc389577-90d5-41a5-be94-e9066d796ba8",
   "metadata": {},
   "source": [
    "Some of the popular languages that Data Scientists use are:\n",
    "1. Python\n",
    "2. R\n",
    "3. QL "
   ]
  },
  {
   "cell_type": "markdown",
   "id": "31eb4634-c702-401a-8588-97b6d08198cd",
   "metadata": {},
   "source": [
    "Some of the commonly used libraries used by Data Scientists include:\n",
    "1. Pandas\n",
    "2. scikit-learn\n",
    "3. NumPy"
   ]
  },
  {
   "cell_type": "markdown",
   "id": "a094fe20-ed6c-43af-b9bf-48b60f434bb6",
   "metadata": {},
   "source": [
    "|Data Science Tools|\n",
    "-\n",
    "Jupyter Notebook\n",
    "Python\n",
    "Apache Spark"
   ]
  },
  {
   "cell_type": "markdown",
   "id": "47f8db49-47d4-4741-aa78-bcd1c0a5957b",
   "metadata": {},
   "source": [
    "<h3>Below are a few examples of evaluating arithmetic expressions in Python.\n",
    "</h3>\n"
   ]
  },
  {
   "cell_type": "code",
   "execution_count": 1,
   "id": "44c63e97-586d-4a8a-829c-b1d4e990281b",
   "metadata": {},
   "outputs": [
    {
     "data": {
      "text/plain": [
       "17"
      ]
     },
     "execution_count": 1,
     "metadata": {},
     "output_type": "execute_result"
    }
   ],
   "source": [
    "# This a simple arithmetic expression to mutiply then add integers\n",
    "(3*4)+5"
   ]
  },
  {
   "cell_type": "code",
   "execution_count": 2,
   "id": "e74a5247-6c19-43fe-aef4-08e7cd7a2b12",
   "metadata": {},
   "outputs": [
    {
     "data": {
      "text/plain": [
       "'3.33'"
      ]
     },
     "execution_count": 2,
     "metadata": {},
     "output_type": "execute_result"
    }
   ],
   "source": [
    "# This will convert 200 minutes to hours by diving by 60\n",
    "hours = 200/60\n",
    "formatted_hours = \"{:.2f}\".format(hours)\n",
    "formatted_hours"
   ]
  }
 ],
 "metadata": {
  "kernelspec": {
   "display_name": "Python 3 (ipykernel)",
   "language": "python",
   "name": "python3"
  },
  "language_info": {
   "codemirror_mode": {
    "name": "ipython",
    "version": 3
   },
   "file_extension": ".py",
   "mimetype": "text/x-python",
   "name": "python",
   "nbconvert_exporter": "python",
   "pygments_lexer": "ipython3",
   "version": "3.11.7"
  }
 },
 "nbformat": 4,
 "nbformat_minor": 5
}
